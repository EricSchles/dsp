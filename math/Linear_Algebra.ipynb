{
 "cells": [
  {
   "cell_type": "code",
   "execution_count": 5,
   "metadata": {
    "collapsed": true
   },
   "outputs": [],
   "source": [
    "import numpy as np"
   ]
  },
  {
   "cell_type": "code",
   "execution_count": 110,
   "metadata": {
    "collapsed": false
   },
   "outputs": [
    {
     "name": "stdout",
     "output_type": "stream",
     "text": [
      "1. Matrix Operations\n",
      "1.1 (2, 3)\n",
      "1.2 (2, 2)\n",
      "1.3 (3, 2)\n",
      "1.4 (2, 3)\n",
      "1.5 (1, 4)\n",
      "1.6 (4, 1)\n",
      "\n",
      "\n",
      "2. Vector Operations\n",
      "2.1) [[ 9  7 -4  9]]\n",
      "2.2) [[ 3 -3 -2  1]]\n",
      "2.3) [[ 36  12 -18  30]]\n",
      "2.4) 51\n",
      "2.5) 8.60232526704\n",
      "\n",
      "\n",
      "3. Vector Operations\n",
      "3.1) not defined\n",
      "3.2) [[-4 -7 -3]\n",
      " [ 3  6  4]]\n",
      "3.3) [[14  3  3]\n",
      " [ 2  7  9]]\n",
      "3.4) [[-1 -5 -1]\n",
      " [ 2  7  4]]\n",
      "3.5) not defined\n",
      "\n",
      "\n",
      "Optional\n",
      "3.6) not defined\n",
      "3.7) [[ 5 -6]\n",
      " [ 9 -8]\n",
      " [ 6 -6]]\n",
      "3.8) [[1 1]\n",
      " [0 1]]\n",
      "3.9) [[14 28]\n",
      " [28 69]]\n",
      "3.10) [[10 -4  0]\n",
      " [-4  8  8]\n",
      " [ 0  8 10]]\n"
     ]
    }
   ],
   "source": [
    "matrix_A = np.array([\n",
    "                [1, 2, 3], \n",
    "                [2, 7, 4]])\n",
    "\n",
    "matrix_B = np.array([\n",
    "                [1, -1], \n",
    "                [0, 1]])\n",
    "\n",
    "matrix_C = np.array([\n",
    "                [5, -1], \n",
    "                [9, 1],\n",
    "                [6, 0]])\n",
    "\n",
    "matrix_D = np.array([\n",
    "                [3, -2, -1], \n",
    "                [1, 2, 3]])\n",
    "\n",
    "vector_u = np.array([[6, 2, -3, 5]])\n",
    "vector_v = np.array([[3, 5, -1, 4]])\n",
    "vector_w = np.array([[1],\n",
    "                     [8],\n",
    "                     [0],\n",
    "                     [5]])\n",
    "\n",
    "print ('1. Matrix Operations')\n",
    "print('1.1 ' + str(matrix_A.shape))\n",
    "print('1.2 ' + str(matrix_B.shape))\n",
    "print('1.3 ' + str(matrix_C.shape))\n",
    "print('1.4 ' + str(matrix_D.shape))\n",
    "print('1.5 ' + str(vector_u.shape))\n",
    "print('1.6 ' + str(vector_w.shape))\n",
    "print('\\n')\n",
    "\n",
    "alpha = 6\n",
    "\n",
    "print ('2. Vector Operations')\n",
    "print('2.1) ' + str(vector_u + vector_v))\n",
    "print('2.2) ' + str(vector_u - vector_v))\n",
    "print('2.3) ' + str(alpha*vector_u))\n",
    "print('2.4) ' + str(np.vdot(vector_u,vector_v)))\n",
    "print('2.5) ' + str(np.linalg.norm(vector_u)))\n",
    "print('\\n')\n",
    "\n",
    "print ('3. Vector Operations')\n",
    "# print('3.1) ' + str(matrix_A + matrix_C))\n",
    "print('3.1) ' + 'not defined')\n",
    "print('3.2) ' + str(matrix_A - matrix_C.T))\n",
    "print('3.3) ' + str(matrix_C.T + 3*matrix_D))\n",
    "print('3.4) ' + str(np.dot(matrix_B,matrix_A)))\n",
    "# print('3.5) ' + str(np.dot(matrix_B,matrix_A.T)))\n",
    "print('3.5) ' + 'not defined')\n",
    "print('\\n')\n",
    "\n",
    "print ('Optional')\n",
    "# print('3.6)' + str(np.dot(matrix_B,matrix_C)))\n",
    "print('3.6) ' + 'not defined')\n",
    "print('3.7) ' + str(np.dot(matrix_C,matrix_B)))\n",
    "print('3.8) ' + str(np.power(matrix_B,4)))\n",
    "print('3.9) ' + str(np.dot(matrix_A,matrix_A.T)))\n",
    "print('3.10) ' + str(np.dot(matrix_D.T,matrix_D)))\n",
    "\n",
    "\n",
    "\n"
   ]
  },
  {
   "cell_type": "code",
   "execution_count": 33,
   "metadata": {
    "collapsed": false
   },
   "outputs": [],
   "source": [
    "# a=np.mat('1 2 3; 2 7 4')\n",
    "# b=np.mat('1 -1; 0 1')\n",
    "# print(a)\n",
    "# # [[4 3]\n",
    "# #  [2 1]]\n",
    "# print(b)\n",
    "# # [[1 2]\n",
    "# #  [3 4]]\n",
    "# print(a*b)\n",
    "# # [[13 20]\n",
    "# #  [ 5  8]]\n",
    "\n",
    "# print(b*a)"
   ]
  },
  {
   "cell_type": "code",
   "execution_count": null,
   "metadata": {
    "collapsed": true
   },
   "outputs": [],
   "source": []
  }
 ],
 "metadata": {
  "kernelspec": {
   "display_name": "Python 3",
   "language": "python",
   "name": "python3"
  },
  "language_info": {
   "codemirror_mode": {
    "name": "ipython",
    "version": 3
   },
   "file_extension": ".py",
   "mimetype": "text/x-python",
   "name": "python",
   "nbconvert_exporter": "python",
   "pygments_lexer": "ipython3",
   "version": "3.5.1"
  }
 },
 "nbformat": 4,
 "nbformat_minor": 0
}
