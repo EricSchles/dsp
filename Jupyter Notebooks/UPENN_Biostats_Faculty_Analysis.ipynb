{
 "cells": [
  {
   "cell_type": "code",
   "execution_count": 1,
   "metadata": {
    "collapsed": true
   },
   "outputs": [],
   "source": [
    "import pandas as pd\n",
    "import re as re"
   ]
  },
  {
   "cell_type": "markdown",
   "metadata": {},
   "source": [
    "## Q1. Find how many different degrees there are, and their frequencies: Ex:  PhD, ScD, MD, MPH, BSEd, MS, JD, etc."
   ]
  },
  {
   "cell_type": "code",
   "execution_count": 2,
   "metadata": {
    "collapsed": false
   },
   "outputs": [
    {
     "name": "stdout",
     "output_type": "stream",
     "text": [
      "BSEd          1\n",
      "JD            1\n",
      "MA            1\n",
      "MD            1\n",
      "MPH           2\n",
      "MS            2\n",
      "No_Degree     1\n",
      "PhD          31\n",
      "ScD           6\n",
      "dtype: int64\n"
     ]
    }
   ],
   "source": [
    "#Importing the data\n",
    "faculty_data = pd.read_csv('faculty.csv')\n",
    "\n",
    "# Removing whitespace/periods\n",
    "faculty_data[' degree'] = faculty_data[' degree'].map(str.strip)\n",
    "faculty_data[' degree'] = faculty_data[' degree'].str.replace('.','')\n",
    "faculty_data[' degree'] = faculty_data[' degree'].str.replace('0','No_Degree')\n",
    "\n",
    "#Splitting the entries with multiple degrees\n",
    "faculty_data_list = list(faculty_data[' degree'])\n",
    "long_str = \" \".join(faculty_data_list)\n",
    "best_list = long_str.split()\n",
    "\n",
    "#Create a dictionary to hold counts\n",
    "final_answer = {}\n",
    "for item in best_list:\n",
    "    if item not in final_answer:\n",
    "        final_answer[item] = 1\n",
    "    else:\n",
    "        final_answer[item] += 1\n",
    "\n",
    "print (pd.Series(final_answer))\n"
   ]
  },
  {
   "cell_type": "markdown",
   "metadata": {
    "collapsed": true
   },
   "source": [
    "## Q2. Find how many different titles there are, and their frequencies: Ex: Assistant Professor, Professor"
   ]
  },
  {
   "cell_type": "code",
   "execution_count": 3,
   "metadata": {
    "collapsed": false
   },
   "outputs": [
    {
     "data": {
      "text/plain": [
       "Professor              13\n",
       "Associate Professor    12\n",
       "Assistant Professor    12\n",
       "Name: abridged_title, dtype: int64"
      ]
     },
     "execution_count": 3,
     "metadata": {},
     "output_type": "execute_result"
    }
   ],
   "source": [
    "# Updating Titles\n",
    "changing_titles = {'Professor of Biostatistics' : 'Professor',\n",
    "                   'Associate Professor of Biostatistics' : 'Associate Professor',\n",
    "                   'Assistant Professor of Biostatistics' : 'Assistant Professor',\n",
    "                   'Assistant Professor is Biostatistics' : 'Assistant Professor'}\n",
    "\n",
    "faculty_data['abridged_title'] = faculty_data[' title'].map(changing_titles)\n",
    "\n",
    "faculty_data['abridged_title'].value_counts()\n"
   ]
  },
  {
   "cell_type": "markdown",
   "metadata": {},
   "source": [
    "## Q3. Search for email addresses and put them in a list.  Print the list of email addresses."
   ]
  },
  {
   "cell_type": "code",
   "execution_count": 4,
   "metadata": {
    "collapsed": false
   },
   "outputs": [
    {
     "name": "stdout",
     "output_type": "stream",
     "text": [
      "['bellamys@mail.med.upenn.edu', 'warren@upenn.edu', 'bryanma@upenn.edu', 'jinboche@upenn.edu', 'sellenbe@upenn.edu', 'jellenbe@mail.med.upenn.edu', 'ruifeng@upenn.edu', 'bcfrench@mail.med.upenn.edu', 'pgimotty@upenn.edu', 'wguo@mail.med.upenn.edu', 'hsu9@mail.med.upenn.edu', 'rhubb@mail.med.upenn.edu', 'whwang@mail.med.upenn.edu', 'mjoffe@mail.med.upenn.edu', 'jrlandis@mail.med.upenn.edu', 'liy3@email.chop.edu', 'mingyao@mail.med.upenn.edu', 'hongzhe@upenn.edu', 'rlocalio@upenn.edu', 'nanditam@mail.med.upenn.edu', 'knashawn@mail.med.upenn.edu', 'propert@mail.med.upenn.edu', 'mputt@mail.med.upenn.edu', 'sratclif@upenn.edu', 'michross@upenn.edu', 'jaroy@mail.med.upenn.edu', 'msammel@cceb.med.upenn.edu', 'shawp@upenn.edu', 'rshi@mail.med.upenn.edu', 'hshou@mail.med.upenn.edu', 'jshults@mail.med.upenn.edu', 'alisaste@mail.med.upenn.edu', 'atroxel@mail.med.upenn.edu', 'rxiao@mail.med.upenn.edu', 'sxie@mail.med.upenn.edu', 'dxie@upenn.edu', 'weiyang@mail.med.upenn.edu']\n"
     ]
    }
   ],
   "source": [
    "list_of_emails = list(faculty_data[' email'])\n",
    "\n",
    "print(list_of_emails)"
   ]
  },
  {
   "cell_type": "markdown",
   "metadata": {},
   "source": [
    "## Q4. Find how many different email domains there are (Ex:  mail.med.upenn.edu, upenn.edu, email.chop.edu, etc.).  Print the list of unique email domains."
   ]
  },
  {
   "cell_type": "code",
   "execution_count": 5,
   "metadata": {
    "collapsed": false
   },
   "outputs": [
    {
     "name": "stdout",
     "output_type": "stream",
     "text": [
      "cceb.med.upenn.edu     1\n",
      "email.chop.edu         1\n",
      "mail.med.upenn.edu    23\n",
      "upenn.edu             12\n",
      "dtype: int64\n"
     ]
    }
   ],
   "source": [
    "#Using regular expressions to find the answer\n",
    "\n",
    "list_of_domains = []\n",
    "\n",
    "for email in list_of_emails:\n",
    "    match = re.search(r'([\\w.]+)@([\\w.]+)', email)\n",
    "    list_of_domains.append(match.group(2))\n",
    "    \n",
    "domain_final_answer = {}\n",
    "for domain in list_of_domains:\n",
    "    if domain not in domain_final_answer:\n",
    "        domain_final_answer[domain] = 1\n",
    "    else:\n",
    "        domain_final_answer[domain] += 1\n",
    "\n",
    "print (pd.Series(domain_final_answer))"
   ]
  },
  {
   "cell_type": "markdown",
   "metadata": {},
   "source": [
    "## Q5. Write email addresses from Part I to csv file"
   ]
  },
  {
   "cell_type": "code",
   "execution_count": 6,
   "metadata": {
    "collapsed": false
   },
   "outputs": [],
   "source": [
    "#I chose to switch back to a series instead of using the csv library\n",
    "series_of_emails = pd.Series(list_of_emails)\n",
    "series_of_emails.to_csv('email_addresses.csv',index=False)"
   ]
  },
  {
   "cell_type": "markdown",
   "metadata": {},
   "source": [
    "## Q6. Create a dictionary in the below format:"
   ]
  },
  {
   "cell_type": "code",
   "execution_count": 7,
   "metadata": {
    "collapsed": false
   },
   "outputs": [
    {
     "name": "stdout",
     "output_type": "stream",
     "text": [
      "[\"Bryan : ['PhD', 'Assistant Professor', 'bryanma@upenn.edu']\", \"Putt : ['PhD ScD', 'Professor', 'mputt@mail.med.upenn.edu']\", \"Roy : ['PhD', 'Associate Professor', 'jaroy@mail.med.upenn.edu']\"]\n"
     ]
    }
   ],
   "source": [
    "faculty_dict = {}\n",
    "final_answer = []\n",
    "\n",
    "for index, row in faculty_data.iterrows():\n",
    "    \n",
    "    last_name = re.search(r'([\\w.]+\\Z)', row['name'])\n",
    "    faculty_dict[last_name.group()] = [row[' degree'] , row['abridged_title'], row[' email']]\n",
    "\n",
    "for key, value in faculty_dict.items():\n",
    "    final_answer.append((key + ' : ' + str(value)))\n",
    "    \n",
    "print(final_answer[0:3])"
   ]
  },
  {
   "cell_type": "markdown",
   "metadata": {
    "collapsed": true
   },
   "source": [
    "## Q7.  The previous dictionary does not have the best design for keys.  Create a new dictionary with keys as:"
   ]
  },
  {
   "cell_type": "code",
   "execution_count": 8,
   "metadata": {
    "collapsed": false
   },
   "outputs": [
    {
     "name": "stdout",
     "output_type": "stream",
     "text": [
      "[\"Knashawn, Morales : ['ScD', 'Associate Professor', 'knashawn@mail.med.upenn.edu']\", \"Rui, Feng : ['PhD', 'Assistant Professor', 'ruifeng@upenn.edu']\", \"Haochang, Shou : ['PhD', 'Assistant Professor', 'hshou@mail.med.upenn.edu']\"]\n"
     ]
    }
   ],
   "source": [
    "faculty_dict = {}\n",
    "final_answer = []\n",
    "\n",
    "for index, row in faculty_data.iterrows():\n",
    "    \n",
    "    last_name = re.search(r'([\\w.]+\\Z)', row['name'])\n",
    "    first_name = re.search(r'^([\\w.]+)', row['name'])\n",
    "\n",
    "\n",
    "    faculty_dict[first_name.group() + ', ' + last_name.group()] = [row[' degree'] , row['abridged_title'], row[' email']]\n",
    "\n",
    "for key, value in faculty_dict.items():\n",
    "    final_answer.append((key + ' : ' + str(value)))\n",
    "    \n",
    "print(final_answer[0:3])"
   ]
  },
  {
   "cell_type": "markdown",
   "metadata": {},
   "source": [
    "## Q8.  It looks like the current dictionary is printing by first name.  Print out the dictionary key value pairs based on alphabetical orders of the last name of the professors"
   ]
  },
  {
   "cell_type": "code",
   "execution_count": 9,
   "metadata": {
    "collapsed": false
   },
   "outputs": [
    {
     "name": "stdout",
     "output_type": "stream",
     "text": [
      "[\"Bellamy, Scarlett : [' Sc.D.', 'Associate Professor', 'bellamys@mail.med.upenn.edu']\", \"Bilker, Warren : ['Ph.D.', 'Professor', 'warren@upenn.edu']\", \"Bryan, Matthew : [' PhD', 'Assistant Professor', 'bryanma@upenn.edu']\", \"Chen, Jinbo : [' Ph.D.', 'Associate Professor', 'jinboche@upenn.edu']\", \"Ellenberg, Jonas : [' Ph.D.', 'Professor', 'jellenbe@mail.med.upenn.edu']\", \"Ellenberg, Susan : [' Ph.D.', 'Professor', 'sellenbe@upenn.edu']\", \"Feng, Rui : [' Ph.D', 'Assistant Professor', 'ruifeng@upenn.edu']\", \"French, Benjamin : [' PhD', 'Associate Professor', 'bcfrench@mail.med.upenn.edu']\", \"Gimotty, Phyllis : [' Ph.D', 'Professor', 'pgimotty@upenn.edu']\", \"Guo, Wensheng : [' Ph.D', 'Professor', 'wguo@mail.med.upenn.edu']\", \"Hsu, Yenchih : [' Ph.D.', 'Assistant Professor', 'hsu9@mail.med.upenn.edu']\", \"Hubbard, Rebecca : [' PhD', 'Associate Professor', 'rhubb@mail.med.upenn.edu']\", \"Hwang, Wei : [' Ph.D.', 'Associate Professor', 'whwang@mail.med.upenn.edu']\", \"Joffe, Marshall : [' MD MPH Ph.D', 'Professor', 'mjoffe@mail.med.upenn.edu']\", \"Landis, J. : [' B.S.Ed. M.S. Ph.D.', 'Professor', 'jrlandis@mail.med.upenn.edu']\", \"Li, Hongzhe : [' Ph.D', 'Professor', 'hongzhe@upenn.edu']\", \"Li, Mingyao : [' Ph.D.', 'Associate Professor', 'mingyao@mail.med.upenn.edu']\", \"Li, Yimei : [' Ph.D.', 'Assistant Professor', 'liy3@email.chop.edu']\", \"Localio, A. : [' JD MA MPH MS PhD', 'Associate Professor', 'rlocalio@upenn.edu']\", \"Mitra, Nandita : [' Ph.D.', 'Associate Professor', 'nanditam@mail.med.upenn.edu']\", \"Morales, Knashawn : [' Sc.D.', 'Associate Professor', 'knashawn@mail.med.upenn.edu']\", \"Propert, Kathleen : [' Sc.D.', 'Professor', 'propert@mail.med.upenn.edu']\", \"Putt, Mary : [' PhD ScD', 'Professor', 'mputt@mail.med.upenn.edu']\", \"Ratcliffe, Sarah : [' Ph.D.', 'Associate Professor', 'sratclif@upenn.edu']\", \"Ross, Michelle : [' PhD', 'Assistant Professor', 'michross@upenn.edu']\", \"Roy, Jason : [' Ph.D.', 'Associate Professor', 'jaroy@mail.med.upenn.edu']\", \"Sammel, Mary : [' Sc.D.', 'Professor', 'msammel@cceb.med.upenn.edu']\", \"Shaw, Pamela : [' PhD', 'Assistant Professor', 'shawp@upenn.edu']\", \"Shinohara, Russell : ['0', 'Assistant Professor', 'rshi@mail.med.upenn.edu']\", \"Shou, Haochang : [' Ph.D.', 'Assistant Professor', 'hshou@mail.med.upenn.edu']\", \"Shults, Justine : [' Ph.D.', 'Professor', 'jshults@mail.med.upenn.edu']\", \"Stephens, Alisa : [' Ph.D.', 'Assistant Professor', 'alisaste@mail.med.upenn.edu']\", \"Troxel, Andrea : [' ScD', 'Professor', 'atroxel@mail.med.upenn.edu']\", \"Xiao, Rui : [' PhD', 'Assistant Professor', 'rxiao@mail.med.upenn.edu']\", \"Xie, Dawei : [' PhD', 'Assistant Professor', 'dxie@upenn.edu']\", \"Xie, Sharon : [' Ph.D.', 'Associate Professor', 'sxie@mail.med.upenn.edu']\", \"Yang, Wei : [' Ph.D.', 'Assistant Professor', 'weiyang@mail.med.upenn.edu']\"]\n"
     ]
    }
   ],
   "source": [
    "import pandas as pd\n",
    "import re as re\n",
    "\n",
    "# Importing the data\n",
    "faculty_data = pd.read_csv('faculty.csv')\n",
    "\n",
    "changing_titles = {'Professor of Biostatistics': 'Professor',\n",
    "                   'Associate Professor of Biostatistics': 'Associate Professor',\n",
    "                   'Assistant Professor of Biostatistics': 'Assistant Professor',\n",
    "                   'Assistant Professor is Biostatistics': 'Assistant Professor'}\n",
    "\n",
    "faculty_data['abridged_title'] = faculty_data[' title'].map(changing_titles)\n",
    "\n",
    "faculty_dict = {}\n",
    "final_answer = []\n",
    "\n",
    "for index, row in faculty_data.iterrows():\n",
    "\n",
    "    last_name = re.search(r'([\\w.]+\\Z)', row['name'])\n",
    "    first_name = re.search(r'^([\\w.]+)', row['name'])\n",
    "\n",
    "    faculty_dict[last_name.group() + ', ' + first_name.group()] = [row[' degree'], row['abridged_title'], row[' email']]\n",
    "\n",
    "for key, value in faculty_dict.items():\n",
    "    final_answer.append((key + ' : ' + str(value)))\n",
    "\n",
    "print(sorted(final_answer))\n"
   ]
  },
  {
   "cell_type": "code",
   "execution_count": null,
   "metadata": {
    "collapsed": true
   },
   "outputs": [],
   "source": []
  }
 ],
 "metadata": {
  "kernelspec": {
   "display_name": "Python 3",
   "language": "python",
   "name": "python3"
  },
  "language_info": {
   "codemirror_mode": {
    "name": "ipython",
    "version": 3
   },
   "file_extension": ".py",
   "mimetype": "text/x-python",
   "name": "python",
   "nbconvert_exporter": "python",
   "pygments_lexer": "ipython3",
   "version": "3.5.1"
  }
 },
 "nbformat": 4,
 "nbformat_minor": 0
}
